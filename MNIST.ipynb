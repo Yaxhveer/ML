{
  "nbformat": 4,
  "nbformat_minor": 0,
  "metadata": {
    "colab": {
      "provenance": []
    },
    "kernelspec": {
      "name": "python3",
      "display_name": "Python 3"
    },
    "language_info": {
      "name": "python"
    }
  },
  "cells": [
    {
      "cell_type": "code",
      "source": [
        "import numpy as np\n",
        "from tensorflow import keras\n",
        "from keras import layers"
      ],
      "metadata": {
        "id": "9OSk3Hl5mvgr"
      },
      "execution_count": null,
      "outputs": []
    },
    {
      "cell_type": "code",
      "source": [
        "input_shape = (28, 28, 1)\n",
        "\n",
        "(x_train, y_train), (x_test, y_test) = keras.datasets.mnist.load_data()\n",
        "\n",
        "# scaling\n",
        "x_train = x_train.astype('float32')/255\n",
        "x_test = x_test.astype('float32')/255\n",
        "\n",
        "x_train = np.expand_dims(x_train, -1)\n",
        "x_test = np.expand_dims(x_test, -1)\n",
        "\n",
        "x_train.shape[0], x_test.shape[0]"
      ],
      "metadata": {
        "colab": {
          "base_uri": "https://localhost:8080/"
        },
        "id": "EW6kwpLjcvQM",
        "outputId": "372bc7f6-a035-4d73-87e4-f71a131735f5"
      },
      "execution_count": null,
      "outputs": [
        {
          "output_type": "stream",
          "name": "stdout",
          "text": [
            "Downloading data from https://storage.googleapis.com/tensorflow/tf-keras-datasets/mnist.npz\n",
            "11490434/11490434 [==============================] - 0s 0us/step\n"
          ]
        },
        {
          "output_type": "execute_result",
          "data": {
            "text/plain": [
              "(60000, 10000)"
            ]
          },
          "metadata": {},
          "execution_count": 2
        }
      ]
    },
    {
      "cell_type": "code",
      "source": [
        "y_train = keras.utils.to_categorical(y_train, 10)\n",
        "y_test = keras.utils.to_categorical(y_test, 10)"
      ],
      "metadata": {
        "id": "Mz3joYAMgW0-"
      },
      "execution_count": null,
      "outputs": []
    },
    {
      "cell_type": "code",
      "source": [
        "inputs = layers.Input(shape=(28, 28, 1))\n",
        "x = layers.Conv2D(32, 3, activation=\"relu\")(inputs)\n",
        "x = layers.MaxPooling2D(pool_size=(2, 2))(x)\n",
        "x = layers.Conv2D(64, 3, activation=\"relu\")(x)\n",
        "x = layers.MaxPooling2D(pool_size=(2, 2))(x)\n",
        "\n",
        "x = layers.Flatten()(x)\n",
        "x = layers.Dropout(0.5)(x)\n",
        "outputs = layers.Dense(10, activation=\"softmax\")(x)\n",
        "\n",
        "model = keras.Model(inputs=inputs, outputs=outputs, name=\"mnist_model\")\n",
        "model.summary()"
      ],
      "metadata": {
        "colab": {
          "base_uri": "https://localhost:8080/"
        },
        "id": "zsh9Q5Iwg6Je",
        "outputId": "361c7ee6-6542-419d-a1b0-174d7484cb32"
      },
      "execution_count": null,
      "outputs": [
        {
          "output_type": "stream",
          "name": "stdout",
          "text": [
            "Model: \"mnist_model\"\n",
            "_________________________________________________________________\n",
            " Layer (type)                Output Shape              Param #   \n",
            "=================================================================\n",
            " input_1 (InputLayer)        [(None, 28, 28, 1)]       0         \n",
            "                                                                 \n",
            " conv2d (Conv2D)             (None, 26, 26, 32)        320       \n",
            "                                                                 \n",
            " max_pooling2d (MaxPooling2D  (None, 13, 13, 32)       0         \n",
            " )                                                               \n",
            "                                                                 \n",
            " conv2d_1 (Conv2D)           (None, 11, 11, 64)        18496     \n",
            "                                                                 \n",
            " max_pooling2d_1 (MaxPooling  (None, 5, 5, 64)         0         \n",
            " 2D)                                                             \n",
            "                                                                 \n",
            " flatten (Flatten)           (None, 1600)              0         \n",
            "                                                                 \n",
            " dropout (Dropout)           (None, 1600)              0         \n",
            "                                                                 \n",
            " dense (Dense)               (None, 10)                16010     \n",
            "                                                                 \n",
            "=================================================================\n",
            "Total params: 34,826\n",
            "Trainable params: 34,826\n",
            "Non-trainable params: 0\n",
            "_________________________________________________________________\n"
          ]
        }
      ]
    },
    {
      "cell_type": "code",
      "source": [
        "model.compile(loss=\"categorical_crossentropy\", optimizer=\"adam\", metrics=[\"accuracy\"])\n",
        "model.fit(x_train, y_train, batch_size=512, epochs=10, validation_split=0.1)"
      ],
      "metadata": {
        "colab": {
          "base_uri": "https://localhost:8080/"
        },
        "id": "wdQsTyH3lAN6",
        "outputId": "bca341ed-645b-4fb9-f25a-4e2ec4d27e5d"
      },
      "execution_count": null,
      "outputs": [
        {
          "output_type": "stream",
          "name": "stdout",
          "text": [
            "Epoch 1/10\n",
            "106/106 [==============================] - 61s 557ms/step - loss: 0.7441 - accuracy: 0.7814 - val_loss: 0.1476 - val_accuracy: 0.9597\n",
            "Epoch 2/10\n",
            "106/106 [==============================] - 53s 501ms/step - loss: 0.1804 - accuracy: 0.9458 - val_loss: 0.0888 - val_accuracy: 0.9767\n",
            "Epoch 3/10\n",
            "106/106 [==============================] - 51s 484ms/step - loss: 0.1273 - accuracy: 0.9608 - val_loss: 0.0677 - val_accuracy: 0.9818\n",
            "Epoch 4/10\n",
            "106/106 [==============================] - 51s 480ms/step - loss: 0.1043 - accuracy: 0.9686 - val_loss: 0.0584 - val_accuracy: 0.9855\n",
            "Epoch 5/10\n",
            "106/106 [==============================] - 49s 462ms/step - loss: 0.0911 - accuracy: 0.9719 - val_loss: 0.0527 - val_accuracy: 0.9865\n",
            "Epoch 6/10\n",
            "106/106 [==============================] - 50s 473ms/step - loss: 0.0803 - accuracy: 0.9752 - val_loss: 0.0476 - val_accuracy: 0.9878\n",
            "Epoch 7/10\n",
            "106/106 [==============================] - 52s 494ms/step - loss: 0.0726 - accuracy: 0.9776 - val_loss: 0.0437 - val_accuracy: 0.9887\n",
            "Epoch 8/10\n",
            "106/106 [==============================] - 51s 478ms/step - loss: 0.0686 - accuracy: 0.9793 - val_loss: 0.0409 - val_accuracy: 0.9898\n",
            "Epoch 9/10\n",
            "106/106 [==============================] - 51s 478ms/step - loss: 0.0648 - accuracy: 0.9804 - val_loss: 0.0392 - val_accuracy: 0.9902\n",
            "Epoch 10/10\n",
            "106/106 [==============================] - 51s 477ms/step - loss: 0.0592 - accuracy: 0.9814 - val_loss: 0.0363 - val_accuracy: 0.9907\n"
          ]
        },
        {
          "output_type": "execute_result",
          "data": {
            "text/plain": [
              "<keras.callbacks.History at 0x7fc2dc179150>"
            ]
          },
          "metadata": {},
          "execution_count": 5
        }
      ]
    },
    {
      "cell_type": "code",
      "source": [
        "test_scores = model.evaluate(x_test, y_test, verbose=2)\n",
        "test_scores"
      ],
      "metadata": {
        "colab": {
          "base_uri": "https://localhost:8080/"
        },
        "id": "CeJuoLNknDoA",
        "outputId": "cc7b7a59-d058-4bb4-de64-080f306eadff"
      },
      "execution_count": null,
      "outputs": [
        {
          "output_type": "stream",
          "name": "stdout",
          "text": [
            "313/313 - 4s - loss: 0.0373 - accuracy: 0.9867 - 4s/epoch - 12ms/step\n"
          ]
        },
        {
          "output_type": "execute_result",
          "data": {
            "text/plain": [
              "[0.03730423375964165, 0.9866999983787537]"
            ]
          },
          "metadata": {},
          "execution_count": 6
        }
      ]
    },
    {
      "cell_type": "code",
      "source": [
        "def format_label(label):\n",
        "  return [i for i, val in enumerate(label[0]) if val==1]\n",
        "\n",
        "import matplotlib.pyplot as plt\n",
        "for i, img in enumerate(x_test[:9]):\n",
        "  ax = plt.subplot(3, 3, i + 1)\n",
        "  img = img.astype('float32')*255\n",
        "  plt.imshow(img.astype(\"uint8\"))\n",
        "  x = np.expand_dims(img, axis=0)\n",
        "  label = model(x)\n",
        "  plt.title(format_label(label))\n",
        "  plt.axis(\"off\")"
      ],
      "metadata": {
        "colab": {
          "base_uri": "https://localhost:8080/",
          "height": 428
        },
        "id": "xjXVkzVsXOKV",
        "outputId": "bd40e6a0-6ff4-47fa-b882-876e3e276e94"
      },
      "execution_count": null,
      "outputs": [
        {
          "output_type": "display_data",
          "data": {
            "text/plain": [
              "<Figure size 640x480 with 9 Axes>"
            ],
            "image/png": "[encoded data removed]"
          },
          "metadata": {}
        }
      ]
    }
  ]
}