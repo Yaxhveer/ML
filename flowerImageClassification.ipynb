{
  "nbformat": 4,
  "nbformat_minor": 0,
  "metadata": {
    "colab": {
      "provenance": [],
      "gpuType": "T4",
      "cell_execution_strategy": "setup"
    },
    "kernelspec": {
      "name": "python3",
      "display_name": "Python 3"
    },
    "language_info": {
      "name": "python"
    },
    "accelerator": "GPU"
  },
  "cells": [
    {
      "cell_type": "code",
      "execution_count": null,
      "metadata": {
        "id": "SNBY2Oi8ohBk"
      },
      "outputs": [],
      "source": [
        "import numpy as np\n",
        "import PIL\n",
        "import tensorflow as tf\n",
        "\n",
        "from tensorflow import keras"
      ]
    },
    {
      "cell_type": "code",
      "source": [
        "import pathlib\n",
        "dataset_url = \"https://storage.googleapis.com/download.tensorflow.org/example_images/flower_photos.tgz\"\n",
        "data_dir = keras.utils.get_file('flower_photos', origin=dataset_url, untar=True)\n",
        "data_dir = pathlib.Path(data_dir)\n",
        "data_dir"
      ],
      "metadata": {
        "colab": {
          "base_uri": "https://localhost:8080/"
        },
        "id": "0CGyWVEKf1cm",
        "outputId": "45825864-6cb3-4195-c40d-b88bd16bb9be"
      },
      "execution_count": null,
      "outputs": [
        {
          "output_type": "stream",
          "name": "stdout",
          "text": [
            "Downloading data from https://storage.googleapis.com/download.tensorflow.org/example_images/flower_photos.tgz\n",
            "228813984/228813984 [==============================] - 1s 0us/step\n"
          ]
        },
        {
          "output_type": "execute_result",
          "data": {
            "text/plain": [
              "PosixPath('/root/.keras/datasets/flower_photos')"
            ]
          },
          "metadata": {},
          "execution_count": 2
        }
      ]
    },
    {
      "cell_type": "code",
      "source": [
        "image_count = len(list(data_dir.glob('*/*.jpg')))\n",
        "print(image_count)"
      ],
      "metadata": {
        "colab": {
          "base_uri": "https://localhost:8080/"
        },
        "id": "VdpT-LDGhVDk",
        "outputId": "eb985c91-89a5-4137-c3de-280befb85cb8"
      },
      "execution_count": null,
      "outputs": [
        {
          "output_type": "stream",
          "name": "stdout",
          "text": [
            "3670\n"
          ]
        }
      ]
    },
    {
      "cell_type": "code",
      "source": [
        "batch_size = 32\n",
        "img_height = 180\n",
        "img_width = 180\n",
        "\n",
        "ds = tf.keras.utils.image_dataset_from_directory(\n",
        "  data_dir,\n",
        "  seed=123,\n",
        "  image_size=(img_height, img_width),\n",
        "  batch_size=batch_size\n",
        ")\n",
        "\n",
        "train_ds, test_ds = tf.keras.utils.split_dataset(\n",
        "    ds,\n",
        "    left_size=0.8,\n",
        "    shuffle=True,\n",
        "    seed=42\n",
        ")\n"
      ],
      "metadata": {
        "colab": {
          "base_uri": "https://localhost:8080/"
        },
        "id": "7S5AArOkwvqQ",
        "outputId": "8c1a682a-fcdf-4c09-c1c9-8e4f783b557d"
      },
      "execution_count": null,
      "outputs": [
        {
          "output_type": "stream",
          "name": "stdout",
          "text": [
            "Found 3670 files belonging to 5 classes.\n"
          ]
        }
      ]
    },
    {
      "cell_type": "code",
      "source": [
        "num_classes = 5\n",
        "\n",
        "inputs = keras.Input(shape=(img_height, img_width, 3))\n",
        "x = keras.layers.Rescaling(1./255)(inputs)\n",
        "x = keras.layers.RandomRotation(factor=0.2)(x)\n",
        "x = keras.layers.RandomZoom(0.2)(x)\n",
        "x = keras.layers.RandomContrast(0.2)(x)\n",
        "x = keras.layers.Conv2D(16, 3, padding=\"same\", activation=\"relu\")(x)\n",
        "x = keras.layers.MaxPooling2D()(x)\n",
        "x = keras.layers.Conv2D(32, 3, padding='same', activation='relu')(x)\n",
        "x = keras.layers.Dropout(0.2)(x)\n",
        "x = keras.layers.MaxPooling2D()(x)\n",
        "x = keras.layers.Conv2D(64, 3, padding='same', activation='relu')(x)\n",
        "x = keras.layers.Dropout(0.2)(x)\n",
        "x = keras.layers.MaxPooling2D()(x)\n",
        "x = keras.layers.Flatten()(x)\n",
        "x = keras.layers.Dense(128, activation='relu')(x)\n",
        "x = keras.layers.Dropout(0.2)(x)\n",
        "x = keras.layers.Dense(128, activation='relu')(x)\n",
        "outputs = keras.layers.Dense(num_classes)(x)\n",
        "\n",
        "model = keras.Model(inputs=inputs, outputs=outputs)\n",
        "model.summary()"
      ],
      "metadata": {
        "colab": {
          "base_uri": "https://localhost:8080/"
        },
        "id": "tC-oi_u0zlK1",
        "outputId": "782e11fe-2eed-449a-a7f5-4787abeb4dc6"
      },
      "execution_count": null,
      "outputs": [
        {
          "output_type": "stream",
          "name": "stdout",
          "text": [
            "Model: \"model_2\"\n",
            "_________________________________________________________________\n",
            " Layer (type)                Output Shape              Param #   \n",
            "=================================================================\n",
            " input_3 (InputLayer)        [(None, 180, 180, 3)]     0         \n",
            "                                                                 \n",
            " rescaling_2 (Rescaling)     (None, 180, 180, 3)       0         \n",
            "                                                                 \n",
            " random_rotation_2 (RandomRo  (None, 180, 180, 3)      0         \n",
            " tation)                                                         \n",
            "                                                                 \n",
            " random_zoom_2 (RandomZoom)  (None, 180, 180, 3)       0         \n",
            "                                                                 \n",
            " random_contrast_2 (RandomCo  (None, 180, 180, 3)      0         \n",
            " ntrast)                                                         \n",
            "                                                                 \n",
            " conv2d_6 (Conv2D)           (None, 180, 180, 16)      448       \n",
            "                                                                 \n",
            " max_pooling2d_6 (MaxPooling  (None, 90, 90, 16)       0         \n",
            " 2D)                                                             \n",
            "                                                                 \n",
            " conv2d_7 (Conv2D)           (None, 90, 90, 32)        4640      \n",
            "                                                                 \n",
            " dropout_7 (Dropout)         (None, 90, 90, 32)        0         \n",
            "                                                                 \n",
            " max_pooling2d_7 (MaxPooling  (None, 45, 45, 32)       0         \n",
            " 2D)                                                             \n",
            "                                                                 \n",
            " conv2d_8 (Conv2D)           (None, 45, 45, 64)        18496     \n",
            "                                                                 \n",
            " dropout_8 (Dropout)         (None, 45, 45, 64)        0         \n",
            "                                                                 \n",
            " max_pooling2d_8 (MaxPooling  (None, 22, 22, 64)       0         \n",
            " 2D)                                                             \n",
            "                                                                 \n",
            " flatten_2 (Flatten)         (None, 30976)             0         \n",
            "                                                                 \n",
            " dense_5 (Dense)             (None, 128)               3965056   \n",
            "                                                                 \n",
            " dropout_9 (Dropout)         (None, 128)               0         \n",
            "                                                                 \n",
            " dense_6 (Dense)             (None, 128)               16512     \n",
            "                                                                 \n",
            " dense_7 (Dense)             (None, 5)                 645       \n",
            "                                                                 \n",
            "=================================================================\n",
            "Total params: 4,005,797\n",
            "Trainable params: 4,005,797\n",
            "Non-trainable params: 0\n",
            "_________________________________________________________________\n"
          ]
        }
      ]
    },
    {
      "cell_type": "code",
      "source": [
        "AUTOTUNE = tf.data.AUTOTUNE\n",
        "train_ds = train_ds.cache().shuffle(1000).prefetch(buffer_size=AUTOTUNE)"
      ],
      "metadata": {
        "id": "evf27eaT-2TY"
      },
      "execution_count": null,
      "outputs": []
    },
    {
      "cell_type": "code",
      "source": [
        "model.compile(optimizer=\"adam\", loss=keras.losses.SparseCategoricalCrossentropy(from_logits=True), metrics=['accuracy'])\n",
        "epochs=30\n",
        "history = model.fit(\n",
        "  train_ds,\n",
        "  epochs=epochs\n",
        ")"
      ],
      "metadata": {
        "colab": {
          "base_uri": "https://localhost:8080/"
        },
        "id": "FGkiwJUm9_x6",
        "outputId": "af2bf862-2442-4be7-b377-a2ff683bc6a8"
      },
      "execution_count": null,
      "outputs": [
        {
          "output_type": "stream",
          "name": "stdout",
          "text": [
            "Epoch 1/30\n",
            "92/92 [==============================] - 6s 30ms/step - loss: 1.4031 - accuracy: 0.3798\n",
            "Epoch 2/30\n",
            "92/92 [==============================] - 3s 28ms/step - loss: 1.1454 - accuracy: 0.5245\n",
            "Epoch 3/30\n",
            "92/92 [==============================] - 3s 28ms/step - loss: 1.0892 - accuracy: 0.5545\n",
            "Epoch 4/30\n",
            "92/92 [==============================] - 3s 29ms/step - loss: 1.0103 - accuracy: 0.5916\n",
            "Epoch 5/30\n",
            "92/92 [==============================] - 3s 29ms/step - loss: 0.9426 - accuracy: 0.6257\n",
            "Epoch 6/30\n",
            "92/92 [==============================] - 3s 29ms/step - loss: 0.8944 - accuracy: 0.6543\n",
            "Epoch 7/30\n",
            "92/92 [==============================] - 3s 29ms/step - loss: 0.8578 - accuracy: 0.6696\n",
            "Epoch 8/30\n",
            "92/92 [==============================] - 3s 28ms/step - loss: 0.8231 - accuracy: 0.6764\n",
            "Epoch 9/30\n",
            "92/92 [==============================] - 3s 29ms/step - loss: 0.8240 - accuracy: 0.6788\n",
            "Epoch 10/30\n",
            "92/92 [==============================] - 3s 28ms/step - loss: 0.7771 - accuracy: 0.7006\n",
            "Epoch 11/30\n",
            "92/92 [==============================] - 3s 28ms/step - loss: 0.7695 - accuracy: 0.7013\n",
            "Epoch 12/30\n",
            "92/92 [==============================] - 3s 29ms/step - loss: 0.7604 - accuracy: 0.6999\n",
            "Epoch 13/30\n",
            "92/92 [==============================] - 3s 29ms/step - loss: 0.7420 - accuracy: 0.7176\n",
            "Epoch 14/30\n",
            "92/92 [==============================] - 3s 29ms/step - loss: 0.7188 - accuracy: 0.7173\n",
            "Epoch 15/30\n",
            "92/92 [==============================] - 3s 28ms/step - loss: 0.6999 - accuracy: 0.7204\n",
            "Epoch 16/30\n",
            "92/92 [==============================] - 3s 28ms/step - loss: 0.6815 - accuracy: 0.7405\n",
            "Epoch 17/30\n",
            "92/92 [==============================] - 3s 30ms/step - loss: 0.6693 - accuracy: 0.7357\n",
            "Epoch 18/30\n",
            "92/92 [==============================] - 3s 29ms/step - loss: 0.6672 - accuracy: 0.7388\n",
            "Epoch 19/30\n",
            "92/92 [==============================] - 3s 28ms/step - loss: 0.6602 - accuracy: 0.7486\n",
            "Epoch 20/30\n",
            "92/92 [==============================] - 3s 30ms/step - loss: 0.6490 - accuracy: 0.7572\n",
            "Epoch 21/30\n",
            "92/92 [==============================] - 3s 29ms/step - loss: 0.6370 - accuracy: 0.7582\n",
            "Epoch 22/30\n",
            "92/92 [==============================] - 3s 28ms/step - loss: 0.5967 - accuracy: 0.7691\n",
            "Epoch 23/30\n",
            "92/92 [==============================] - 3s 31ms/step - loss: 0.5919 - accuracy: 0.7674\n",
            "Epoch 24/30\n",
            "92/92 [==============================] - 3s 29ms/step - loss: 0.5775 - accuracy: 0.7800\n",
            "Epoch 25/30\n",
            "92/92 [==============================] - 3s 29ms/step - loss: 0.5880 - accuracy: 0.7796\n",
            "Epoch 26/30\n",
            "92/92 [==============================] - 3s 29ms/step - loss: 0.5777 - accuracy: 0.7732\n",
            "Epoch 27/30\n",
            "92/92 [==============================] - 3s 29ms/step - loss: 0.5506 - accuracy: 0.7875\n",
            "Epoch 28/30\n",
            "92/92 [==============================] - 3s 29ms/step - loss: 0.5630 - accuracy: 0.7759\n",
            "Epoch 29/30\n",
            "92/92 [==============================] - 3s 28ms/step - loss: 0.5103 - accuracy: 0.7980\n",
            "Epoch 30/30\n",
            "92/92 [==============================] - 3s 30ms/step - loss: 0.5200 - accuracy: 0.8055\n"
          ]
        }
      ]
    },
    {
      "cell_type": "code",
      "source": [
        "model.evaluate(test_ds)"
      ],
      "metadata": {
        "colab": {
          "base_uri": "https://localhost:8080/"
        },
        "id": "m_U1Q2uGD9pv",
        "outputId": "a8de4238-f70c-41b4-a514-d41ba2c7d1a5"
      },
      "execution_count": null,
      "outputs": [
        {
          "output_type": "stream",
          "name": "stdout",
          "text": [
            "23/23 [==============================] - 0s 12ms/step - loss: 0.6789 - accuracy: 0.7411\n"
          ]
        },
        {
          "output_type": "execute_result",
          "data": {
            "text/plain": [
              "[0.6788836717605591, 0.7411444187164307]"
            ]
          },
          "metadata": {},
          "execution_count": 17
        }
      ]
    }
  ]
}