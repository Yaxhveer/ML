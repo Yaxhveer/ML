{
  "nbformat": 4,
  "nbformat_minor": 0,
  "metadata": {
    "colab": {
      "provenance": []
    },
    "kernelspec": {
      "name": "python3",
      "display_name": "Python 3"
    },
    "language_info": {
      "name": "python"
    }
  },
  "cells": [
    {
      "cell_type": "code",
      "execution_count": null,
      "metadata": {
        "id": "Lcn_Yc7uY1wu"
      },
      "outputs": [],
      "source": [
        "import numpy as np\n",
        "from tensorflow import keras\n",
        "from keras import layers"
      ]
    },
    {
      "cell_type": "code",
      "source": [
        "maxLen = 150\n",
        "maxFeature = 30000\n",
        "\n",
        "input = keras.Input(shape=(None,), dtype=\"int32\")\n",
        "x = layers.Embedding(maxFeature, 128)(input)\n",
        "x = layers.Bidirectional(layers.LSTM(64, return_sequences=True))(x)\n",
        "x = layers.Bidirectional(layers.LSTM(64))(x)\n",
        "\n",
        "outputs = layers.Dense(1, activation=\"sigmoid\")(x)\n",
        "\n",
        "model = keras.Model(input, outputs)\n",
        "\n",
        "model.summary()"
      ],
      "metadata": {
        "colab": {
          "base_uri": "https://localhost:8080/"
        },
        "id": "znoTLMVIaCFm",
        "outputId": "a0ae1136-0ed8-4ffb-eb12-09dadcf7021d"
      },
      "execution_count": null,
      "outputs": [
        {
          "output_type": "stream",
          "name": "stdout",
          "text": [
            "Model: \"model\"\n",
            "_________________________________________________________________\n",
            " Layer (type)                Output Shape              Param #   \n",
            "=================================================================\n",
            " input_1 (InputLayer)        [(None, None)]            0         \n",
            "                                                                 \n",
            " embedding (Embedding)       (None, None, 128)         3840000   \n",
            "                                                                 \n",
            " bidirectional (Bidirectiona  (None, None, 128)        98816     \n",
            " l)                                                              \n",
            "                                                                 \n",
            " bidirectional_1 (Bidirectio  (None, 128)              98816     \n",
            " nal)                                                            \n",
            "                                                                 \n",
            " dense (Dense)               (None, 1)                 129       \n",
            "                                                                 \n",
            "=================================================================\n",
            "Total params: 4,037,761\n",
            "Trainable params: 4,037,761\n",
            "Non-trainable params: 0\n",
            "_________________________________________________________________\n"
          ]
        }
      ]
    },
    {
      "cell_type": "code",
      "source": [
        "(x_train, y_train), (x_test, y_test) = keras.datasets.imdb.load_data(num_words=maxFeature)\n",
        "x_test, x_val, x_train2 = x_test[:5000], x_test[5000:10000], x_test[10000:]\n",
        "x_train = np.concatenate((x_train, x_train2), axis=0)\n",
        "\n",
        "y_test, y_val, y_train2 = y_test[:5000], y_test[5000:10000], y_test[10000:]\n",
        "y_train = np.concatenate((y_train, y_train2), axis=0)\n",
        "\n",
        "x_test.shape, x_val.shape, x_train.shape"
      ],
      "metadata": {
        "colab": {
          "base_uri": "https://localhost:8080/"
        },
        "id": "dAa0v_LKgc7C",
        "outputId": "9808d32e-a303-478f-e3b0-41e3f04f8a58"
      },
      "execution_count": null,
      "outputs": [
        {
          "output_type": "execute_result",
          "data": {
            "text/plain": [
              "((5000,), (5000,), (40000,))"
            ]
          },
          "metadata": {},
          "execution_count": 11
        }
      ]
    },
    {
      "cell_type": "code",
      "source": [
        "x_train = keras.utils.pad_sequences(x_train, maxlen=maxLen)\n",
        "x_val = keras.utils.pad_sequences(x_val, maxlen=maxLen)\n",
        "x_test = keras.utils.pad_sequences(x_test, maxlen=maxLen)"
      ],
      "metadata": {
        "id": "C09p04jdj1i-"
      },
      "execution_count": null,
      "outputs": []
    },
    {
      "cell_type": "code",
      "source": [
        "model.compile(\"adam\", \"binary_crossentropy\", metrics=[\"accuracy\"])\n",
        "model.fit(x_train, y_train, batch_size=128, epochs=3, validation_data=(x_val, y_val))"
      ],
      "metadata": {
        "colab": {
          "base_uri": "https://localhost:8080/"
        },
        "id": "ak83RfdRkzRK",
        "outputId": "934f4d7d-74f3-4867-d1b4-3d77593d6f24"
      },
      "execution_count": null,
      "outputs": [
        {
          "output_type": "stream",
          "name": "stdout",
          "text": [
            "Epoch 1/3\n",
            "313/313 [==============================] - 447s 1s/step - loss: 0.3179 - accuracy: 0.8651 - val_loss: 0.2799 - val_accuracy: 0.8836\n",
            "Epoch 2/3\n",
            "313/313 [==============================] - 438s 1s/step - loss: 0.1800 - accuracy: 0.9337 - val_loss: 0.2987 - val_accuracy: 0.8750\n",
            "Epoch 3/3\n",
            "313/313 [==============================] - 437s 1s/step - loss: 0.1081 - accuracy: 0.9623 - val_loss: 0.3428 - val_accuracy: 0.8678\n"
          ]
        },
        {
          "output_type": "execute_result",
          "data": {
            "text/plain": [
              "<keras.callbacks.History at 0x7f6df299d300>"
            ]
          },
          "metadata": {},
          "execution_count": 16
        }
      ]
    },
    {
      "cell_type": "code",
      "source": [
        "score = model.evaluate(x_test, y_test)\n",
        "score"
      ],
      "metadata": {
        "colab": {
          "base_uri": "https://localhost:8080/"
        },
        "id": "lh5CbfgDrass",
        "outputId": "2a9594d1-3861-4c51-ac7b-afd783fbee13"
      },
      "execution_count": null,
      "outputs": [
        {
          "output_type": "stream",
          "name": "stdout",
          "text": [
            "157/157 [==============================] - 18s 114ms/step - loss: 0.3648 - accuracy: 0.8640\n"
          ]
        },
        {
          "output_type": "execute_result",
          "data": {
            "text/plain": [
              "[0.3648274540901184, 0.8640000224113464]"
            ]
          },
          "metadata": {},
          "execution_count": 18
        }
      ]
    }
  ]
}